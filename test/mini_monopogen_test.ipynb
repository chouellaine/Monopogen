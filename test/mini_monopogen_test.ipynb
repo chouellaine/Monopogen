{
 "cells": [
  {
   "cell_type": "code",
   "execution_count": 1,
   "metadata": {},
   "outputs": [
    {
     "name": "stdout",
     "output_type": "stream",
     "text": [
      "Requirement already satisfied: pysam in /Users/echou/opt/anaconda3/envs/playground/lib/python3.8/site-packages (0.21.0)\n",
      "Requirement already satisfied: cython in /Users/echou/opt/anaconda3/envs/playground/lib/python3.8/site-packages (from pysam) (0.29.23)\n",
      "Note: you may need to restart the kernel to use updated packages.\n"
     ]
    }
   ],
   "source": [
    "pip install pysam"
   ]
  },
  {
   "cell_type": "code",
   "execution_count": 2,
   "metadata": {},
   "outputs": [],
   "source": [
    "import sys\n",
    "import os\n",
    "\n",
    "module_path = os.path.abspath(os.path.join('..'))\n",
    "if module_path not in sys.path:\n",
    "    sys.path.append(module_path+\"/src\")\n",
    "\n",
    "from mini_monopogen import MonopogenMini\n"
   ]
  },
  {
   "cell_type": "code",
   "execution_count": 4,
   "metadata": {},
   "outputs": [
    {
     "name": "stderr",
     "output_type": "stream",
     "text": [
      "[2023-04-27 16:01:50,088] INFO     mini_monopogen.py Running MonopogenMini\n",
      "\n",
      "[2023-04-27 16:01:50,089] INFO     mini_monopogen.py BAM File: /Users/echou/repos/Monopogen/example/A.bam\n",
      "\n",
      "[2023-04-27 16:01:50,090] INFO     mini_monopogen.py CHR #: chr20\n",
      "\n",
      "[2023-04-27 16:01:50,149] INFO     mini_monopogen.py ========== Calling BamFilter() ==========\n",
      "[2023-04-27 16:01:55,099] INFO     mini_monopogen.py ========== BamFilter Completion Time: 4.949007034301758 \n",
      "\n",
      "[2023-04-27 16:01:55,100] INFO     mini_monopogen.py ========== Calling SNVDiscover() ==========\n",
      "[2023-04-27 16:01:55,124] INFO     mini_monopogen.py ========== SNVDiscover Completion Time: 0.02321624755859375 \n",
      "\n",
      "[2023-04-27 16:01:55,124] INFO     mini_monopogen.py ========== Calling BeagleImpute() ==========\n",
      "[2023-04-27 16:01:55,328] INFO     mini_monopogen.py ========== BeagleImpute Completion Time: 0.20265483856201172 \n",
      "\n",
      "[2023-04-27 16:01:55,328] INFO     mini_monopogen.py ========== Calling GenerateGermlineVCF() ==========\n",
      "[2023-04-27 16:01:55,394] INFO     mini_monopogen.py ========== GenerateGermlineVCF Completion Time: 0.06488394737243652 \n",
      "\n"
     ]
    }
   ],
   "source": [
    "\"\"\"\n",
    "PRECONDITION:\n",
    "* BAM file must be sorted, indexed, and annotated with \"chr\" prefix \n",
    "\"\"\"\n",
    "monopogen_fp = \"/Users/echou/repos/Monopogen\"\n",
    "chr_num = 20\n",
    "out_fp = \"{}/test/monopogen-mini/{}\".format(monopogen_fp,chr_num)\n",
    "bam_file = \"{}/example/A.bam\".format(monopogen_fp)\n",
    "imputation_panel_fp = \"{}/example/CCDG_14151_B01_GRM_WGS_2020-08-05_chr20.filtered.shapeit2-duohmm-phased.vcf.gz\".format(monopogen_fp)\n",
    "reference_fp = \"{}/example/chr20_2Mb.hg38.fa\".format(monopogen_fp)\n",
    "app_fp = \"{}/apps\".format(monopogen_fp)\n",
    "\n",
    "#Run MonopogenMini\n",
    "mini = MonopogenMini(bam_file, out_fp, chr_num,imputation_panel_fp,reference_fp,app_fp)\n",
    "\n",
    "mini.SCvarCall()"
   ]
  },
  {
   "cell_type": "code",
   "execution_count": null,
   "metadata": {},
   "outputs": [],
   "source": []
  }
 ],
 "metadata": {
  "kernelspec": {
   "display_name": "playground",
   "language": "python",
   "name": "python3"
  },
  "language_info": {
   "codemirror_mode": {
    "name": "ipython",
    "version": 3
   },
   "file_extension": ".py",
   "mimetype": "text/x-python",
   "name": "python",
   "nbconvert_exporter": "python",
   "pygments_lexer": "ipython3",
   "version": "3.8.2"
  },
  "orig_nbformat": 4
 },
 "nbformat": 4,
 "nbformat_minor": 2
}
